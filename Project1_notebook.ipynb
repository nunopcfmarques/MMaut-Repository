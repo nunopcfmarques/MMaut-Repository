{
 "cells": [
  {
   "cell_type": "code",
   "execution_count": 1,
   "metadata": {},
   "outputs": [],
   "source": [
    "from Project1_Code import *"
   ]
  },
  {
   "attachments": {},
   "cell_type": "markdown",
   "metadata": {},
   "source": [
    "# Mathematics for Machine Learning"
   ]
  },
  {
   "cell_type": "code",
   "execution_count": 23,
   "metadata": {},
   "outputs": [],
   "source": [
    "A = np.array([[1, 2, 3, 8, 9, 5],\n",
    "             [3, 5, 7, 10, 14, 18],\n",
    "             [1, 4, 2, 8, 8, 10],\n",
    "             [1, 0, 1, 3, 1, 9],\n",
    "             [1, 0, 1, 3, 10, 8]])\n",
    "\n",
    "U, S, Vh = np.linalg.svd(A)\n",
    "\n",
    "A_k = get_low_rank(U, S, Vh, 2)\n"
   ]
  },
  {
   "cell_type": "code",
   "execution_count": 24,
   "metadata": {},
   "outputs": [
    {
     "name": "stdout",
     "output_type": "stream",
     "text": [
      "[8.31380266e+01 3.50279276e+01 1.12470386e+01 3.35558903e+00\n",
      " 4.14546428e-28]\n",
      "[2.70724532e+02 9.05840318e+01 2.15388726e+01 3.35558903e+00\n",
      " 8.67185143e-28]\n",
      "[9.63822733e+01 8.80837002e+01 1.26662385e+01 5.53775185e+00\n",
      " 1.13911515e-27]\n",
      "[2.58247930e+01 8.11804982e+00 1.77531622e+00 7.58942138e-05\n",
      " 9.63991650e-29]\n",
      "[9.90806262e+01 5.28096370e+01 1.93887947e+01 6.82785674e+00\n",
      " 7.09974815e-28]\n",
      "[2.58426573e+00 1.24353426e+00 2.39846879e-01 5.18250919e-02\n",
      " 7.88860905e-29]\n"
     ]
    }
   ],
   "source": [
    "list = ['fro', 'nuc', np.inf, -np.inf, 1 , -1]\n",
    "\n",
    "for norm in list:\n",
    "    get_errors(A, U, S, Vh, norm)"
   ]
  }
 ],
 "metadata": {
  "kernelspec": {
   "display_name": "Python 3",
   "language": "python",
   "name": "python3"
  },
  "language_info": {
   "codemirror_mode": {
    "name": "ipython",
    "version": 3
   },
   "file_extension": ".py",
   "mimetype": "text/x-python",
   "name": "python",
   "nbconvert_exporter": "python",
   "pygments_lexer": "ipython3",
   "version": "3.9.2"
  },
  "orig_nbformat": 4,
  "vscode": {
   "interpreter": {
    "hash": "e7370f93d1d0cde622a1f8e1c04877d8463912d04d973331ad4851f04de6915a"
   }
  }
 },
 "nbformat": 4,
 "nbformat_minor": 2
}
